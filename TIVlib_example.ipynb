{
 "nbformat": 4,
 "nbformat_minor": 0,
 "metadata": {
  "colab": {
   "name": "TIVlib_example.ipynb",
   "provenance": [],
   "collapsed_sections": []
  },
  "kernelspec": {
   "name": "python3",
   "display_name": "Python 3"
  },
  "pycharm": {
   "stem_cell": {
    "cell_type": "raw",
    "source": [],
    "metadata": {
     "collapsed": false
    }
   }
  }
 },
 "cells": [
  {
   "cell_type": "markdown",
   "metadata": {
    "id": "hSvGQr70Hr0H",
    "colab_type": "text"
   },
   "source": [
    "# TIV.lib Example Notebook\n",
    "### Gilberto Bernardes, António Ramires\n",
    "\n",
    "In this notebook, we present example code for the TIV.lib library. It is a python library for the content-based tonal description of musical audio signals, which implements the Tonal Interval Vector space. Its main novelty relies on the DFT-based perceptually-inspired Tonal Interval Vector space, from which multiple instantaneous and global representations, descriptors and metrics are computed---e.g., harmonic changes, dissonance, diatonicity, and musical key."
   ]
  },
  {
   "cell_type": "markdown",
   "metadata": {
    "id": "5GtMrML6Rz7n",
    "colab_type": "text"
   },
   "source": [
    "### Setup\n",
    "\n",
    "Run the following cell to install TIV.lib and Essentia. Essentia is used to extract the Harmonic Pitch Class Profiles from an audio file."
   ]
  },
  {
   "cell_type": "code",
   "metadata": {
    "id": "7WIhE5Hf4lB_",
    "colab_type": "code",
    "outputId": "a72a2169-44f2-4ff6-ad1e-d0ead2895f11",
    "colab": {
     "base_uri": "https://localhost:8080/",
     "height": 313
    },
    "pycharm": {
     "is_executing": false
    }
   },
   "source": [
    "try:\n",
    "  import google.colab\n",
    "  IN_COLAB = True\n",
    "except:\n",
    "  IN_COLAB = False\n",
    "\n",
    "if IN_COLAB:\n",
    "    !git clone https://github.com/aframires/TIVlib.git\n",
    "    %cd TIVlib\n",
    "    !pip install essentia\n",
    "    % cd ../"
   ],
   "execution_count": 1,
   "outputs": []
  },
  {
   "cell_type": "markdown",
   "metadata": {
    "id": "1SXN_e_TSGVZ",
    "colab_type": "text"
   },
   "source": [
    "Import TIV.lib and numpy, and then crate the function to get the HPCP from a file."
   ]
  },
  {
   "cell_type": "code",
   "metadata": {
    "id": "B6VewucC5bUq",
    "colab_type": "code",
    "colab": {},
    "pycharm": {
     "is_executing": false
    }
   },
   "source": [
    "from TIVlib import TIV as tiv\n",
    "import numpy as np"
   ],
   "execution_count": 2,
   "outputs": []
  },
  {
   "cell_type": "code",
   "metadata": {
    "id": "jOsLr5DP5-vF",
    "colab_type": "code",
    "colab": {},
    "pycharm": {
     "is_executing": false
    }
   },
   "source": [
    "from essentia.standard import MonoLoader, Windowing, Spectrum, SpectralPeaks, FrameGenerator, HPCP\n",
    "\n",
    "def file_to_hpcp(filename):\n",
    "    audio = MonoLoader(filename=filename)()\n",
    "    windowing = Windowing(type='blackmanharris62')\n",
    "    spectrum = Spectrum()\n",
    "    spectral_peaks = SpectralPeaks(orderBy='magnitude',\n",
    "                                    magnitudeThreshold=0.001,\n",
    "                                    maxPeaks=5,\n",
    "                                    minFrequency=20,\n",
    "                                    maxFrequency=8000)\n",
    "    hpcp = HPCP(maxFrequency=8000)#,\n",
    "                #normalized='unitSum')\n",
    "\n",
    "    spec_group = []\n",
    "    hpcp_group = []\n",
    "\n",
    "\n",
    "    for frame in FrameGenerator(audio,frameSize=1024,hopSize=512):\n",
    "        windowed = windowing(frame)\n",
    "        fft = spectrum(windowed)\n",
    "        frequencies, magnitudes = spectral_peaks(fft)\n",
    "        final_hpcp = hpcp(frequencies, magnitudes)\n",
    "  \n",
    "        spec_group.append(fft)\n",
    "        hpcp_group.append(final_hpcp)\n",
    "    \n",
    "    mean_hpcp = np.mean(np.array(hpcp_group).T, axis = 1)\n",
    "    #Rotate the HPCP so that it starts in C\n",
    "    mean_hpcp = np.roll(mean_hpcp,-3)\n",
    "    return mean_hpcp"
   ],
   "execution_count": 3,
   "outputs": []
  },
  {
   "cell_type": "markdown",
   "metadata": {
    "id": "MTQcvsXSSrwt",
    "colab_type": "text"
   },
   "source": [
    "# Examples of the feature extraction of TIV.lib\n",
    "\n",
    "Here we show example code on how to load audio files as HPCP. From this HPCP, we create a TIV object which then enables all the feature extraction."
   ]
  },
  {
   "cell_type": "code",
   "metadata": {
    "id": "vWVxGRtF6CHd",
    "colab_type": "code",
    "colab": {},
    "pycharm": {
     "is_executing": false
    }
   },
   "source": [
    "#Reference: CMaj chord\n",
    "c_maj = \"./audio_files/looperman-l-1998259-0109381-adamsouth22-all-i-need-jazz-piano.wav\"\n",
    "#Consonant chords: GMaj, Amin\n",
    "g_maj = \"./audio_files/343416__sss-samples__pinao-melody-g-major.wav\"\n",
    "a_min = \"./audio_files/254729__zuluonedrop__01-piano-al1.wav\"\n",
    "#Dissonant chords: C#Maj, D#min\n",
    "c_sharp_maj = \"./audio_files/looperman-l-0159051-0073982-minor2go-guitars-unlimited-its-you.wav\"\n",
    "d_sharp_min = \"./audio_files/looperman-l-2921269-0190991-wavy-mallets-13.wav\"\n",
    "\n",
    "#Calculate the HPCP for each of the chords\n",
    "c_maj_hpcp = file_to_hpcp(c_maj)\n",
    "g_maj_hpcp = file_to_hpcp(g_maj)\n",
    "a_min_hpcp = file_to_hpcp(a_min)\n",
    "c_sharp_maj_hpcp = file_to_hpcp(c_sharp_maj)\n",
    "d_sharp_min_hpcp = file_to_hpcp(d_sharp_min)\n",
    "\n",
    "#Calculate the TIV for each HPCP\n",
    "c_maj_tiv = tiv.from_pcp(c_maj_hpcp)\n",
    "g_maj_tiv = tiv.from_pcp(g_maj_hpcp)\n",
    "a_min_tiv = tiv.from_pcp(a_min_hpcp)\n",
    "c_sharp_maj_tiv = tiv.from_pcp(c_sharp_maj_hpcp)\n",
    "d_sharp_min_tiv = tiv.from_pcp(d_sharp_min_hpcp)"
   ],
   "execution_count": 4,
   "outputs": []
  },
  {
   "cell_type": "markdown",
   "metadata": {
    "id": "MXjeZK9jYAEo",
    "colab_type": "text"
   },
   "source": [
    "In this section we show how to extract the features related to the TIV weights."
   ]
  },
  {
   "cell_type": "code",
   "metadata": {
    "id": "1ffN8qVK6CwU",
    "colab_type": "code",
    "outputId": "057b077c-9d49-473f-958b-b73b332a17e0",
    "colab": {
     "base_uri": "https://localhost:8080/",
     "height": 237
    },
    "pycharm": {
     "is_executing": false
    }
   },
   "source": [
    "#Examples on the magnitude and phase features\n",
    "print(\"CMaj TIV.mag\")\n",
    "print(c_maj_tiv.mags())\n",
    "print(\"TIV weights\")\n",
    "print(c_maj_tiv.weights)\n",
    "print(\"CMaj TIV.phases\")\n",
    "print(c_maj_tiv.phases())\n",
    "print(\"CMaj diatonicity\")\n",
    "print(c_maj_tiv.diatonicity())\n",
    "print(\"CMaj wholetoneness\")\n",
    "print(c_maj_tiv.wholetoneness())\n",
    "print(\"CMaj chromaticity\")\n",
    "print(c_maj_tiv.chromaticity())"
   ],
   "execution_count": 5,
   "outputs": [
    {
     "name": "stdout",
     "text": [
      "CMaj TIV.mag\n",
      "[0.32272603 1.96272485 3.96964528 2.57850107 6.65192073 0.14865546]\n",
      "TIV weights\n",
      "[3, 8, 11.5, 15, 14.5, 7.5]\n",
      "CMaj TIV.phases\n",
      "[-1.68089896 -0.6672935   0.98614265 -1.69770517  0.6200356   3.14159265]\n",
      "CMaj diatonicity\n",
      "0.4587531536793467\n",
      "CMaj wholetoneness\n",
      "0.01982072775141929\n",
      "CMaj chromaticity\n",
      "0.10757534367409728\n"
     ],
     "output_type": "stream"
    }
   ]
  },
  {
   "cell_type": "markdown",
   "metadata": {
    "id": "46kR-CW-ZMUy",
    "colab_type": "text"
   },
   "source": [
    "Here we exemplify how the key of the TIV can be extracted using the library. We provide two modes for the key extraction, based on Shaath and Temperley profiles."
   ]
  },
  {
   "cell_type": "code",
   "metadata": {
    "id": "wZ_iuq966HcD",
    "colab_type": "code",
    "outputId": "473e0658-b4c8-4b61-c6c2-2687b2544575",
    "colab": {
     "base_uri": "https://localhost:8080/",
     "height": 293
    },
    "pycharm": {
     "is_executing": false
    }
   },
   "source": [
    "#Example on extracting keys\n",
    "#Values are not the same as before\n",
    "print(\"CMaj from Temperley profiles and the Shaath\")\n",
    "print(c_maj_tiv.key(mode='temperley'))\n",
    "print(c_maj_tiv.key(mode='shaath'))\n",
    "print(\"GMaj from Temperley profiles and the Shaath\")\n",
    "print(g_maj_tiv.key(mode='temperley'))\n",
    "print(g_maj_tiv.key(mode='shaath'))\n",
    "print(\"Amin from Temperley profiles and the Shaath\")\n",
    "print(a_min_tiv.key(mode='temperley'))\n",
    "print(a_min_tiv.key(mode='shaath'))\n",
    "print(\"C#Maj from Temperley profiles and the Shaath\")\n",
    "print(c_sharp_maj_tiv.key(mode='temperley'))\n",
    "print(c_sharp_maj_tiv.key(mode='shaath'))\n",
    "print(\"D#min from Temperley profiles and the Shaath\")\n",
    "print(d_sharp_min_tiv.key(mode='temperley'))\n",
    "print(d_sharp_min_tiv.key(mode='shaath'))"
   ],
   "execution_count": 6,
   "outputs": [
    {
     "name": "stdout",
     "text": [
      "CMaj from Temperley profiles and the Shaath\n",
      "('c', 'min')\n",
      "('C', 'maj')\n",
      "GMaj from Temperley profiles and the Shaath\n",
      "('G', 'maj')\n",
      "('a', 'min')\n",
      "Amin from Temperley profiles and the Shaath\n",
      "('a', 'min')\n",
      "('e', 'min')\n",
      "C#Maj from Temperley profiles and the Shaath\n",
      "('Db', 'maj')\n",
      "('Db', 'maj')\n",
      "D#min from Temperley profiles and the Shaath\n",
      "('eb', 'min')\n",
      "('eb', 'min')\n"
     ],
     "output_type": "stream"
    }
   ]
  },
  {
   "cell_type": "markdown",
   "metadata": {
    "id": "Vd5EP5jJZcqI",
    "colab_type": "text"
   },
   "source": [
    "In this section, we show the algorithm is able to infer consonance and dissonance from the audio. Chords which are more consonant (CMaj+GMaj) have a lower dissonance value than dissonant chords (CMaj+C#Maj)."
   ]
  },
  {
   "cell_type": "code",
   "metadata": {
    "id": "9YrRFFyH6IGD",
    "colab_type": "code",
    "outputId": "e7d526e2-4958-4c42-a47c-e8f054c95447",
    "colab": {
     "base_uri": "https://localhost:8080/",
     "height": 164
    },
    "pycharm": {
     "is_executing": false
    }
   },
   "source": [
    "#Example on combining sounds and evaluate its dissonance\n",
    "combined_GM = tiv.combine(c_maj_tiv, g_maj_tiv)\n",
    "combined_Am = tiv.combine(c_maj_tiv, a_min_tiv)\n",
    "combined_CSM = tiv.combine(c_maj_tiv, c_sharp_maj_tiv)\n",
    "combined_DSm = tiv.combine(c_maj_tiv, d_sharp_min_tiv)\n",
    "\n",
    "print(\"Dissonance CMaj + GMaj\")\n",
    "print(tiv.dissonance(combined_GM))\n",
    "print(\"Dissonance CMaj + Amin\")\n",
    "print(tiv.dissonance(combined_Am))\n",
    "print(\"Dissonance CMaj + C#Maj\")\n",
    "print(tiv.dissonance(combined_CSM))\n",
    "print(\"Dissonance CMaj + D#min\")\n",
    "print(tiv.dissonance(combined_DSm))"
   ],
   "execution_count": 7,
   "outputs": [
    {
     "name": "stdout",
     "text": [
      "Dissonance CMaj + GMaj\n",
      "0.7282281805430908\n",
      "Dissonance CMaj + Amin\n",
      "0.7599646661027813\n",
      "Dissonance CMaj + C#Maj\n",
      "0.8591292037988822\n",
      "Dissonance CMaj + D#min\n",
      "0.8256377800109891\n"
     ],
     "output_type": "stream"
    }
   ]
  },
  {
   "cell_type": "markdown",
   "metadata": {
    "id": "X2Qw3q9ZZyfa",
    "colab_type": "text"
   },
   "source": [
    "Finally, we show an example of the distance metrics which are made available throught TIV.lib. Again, we can see that sounds with similar harmonic components are closer than ones with very different components."
   ]
  },
  {
   "cell_type": "code",
   "metadata": {
    "id": "lfMUixuP6Lvl",
    "colab_type": "code",
    "outputId": "be5fa1d2-d59f-454c-fe21-d728c8fca27c",
    "colab": {
     "base_uri": "https://localhost:8080/",
     "height": 237
    },
    "pycharm": {
     "is_executing": false
    }
   },
   "source": [
    "#Example on calculating the distances between sounds\n",
    "print(\"Euclidean and cosine distance between CMaj and GMaj\")\n",
    "print(tiv.euclidean(c_maj_tiv,g_maj_tiv))\n",
    "print(tiv.cosine(c_maj_tiv,g_maj_tiv))\n",
    "\n",
    "print(\"Euclidean and cosine distance between CMaj and AMin\")\n",
    "print(tiv.euclidean(c_maj_tiv,a_min_tiv))\n",
    "print(tiv.cosine(c_maj_tiv,a_min_tiv))\n",
    "\n",
    "print(\"Euclidean and cosine distance between CMaj and C#Maj\")\n",
    "print(tiv.euclidean(c_maj_tiv,c_sharp_maj_tiv))\n",
    "print(tiv.cosine(c_maj_tiv,c_sharp_maj_tiv))\n",
    "\n",
    "print(\"Euclidean and cosine distance between CMaj and D#min\")\n",
    "print(tiv.euclidean(c_maj_tiv,d_sharp_min_tiv))\n",
    "print(tiv.cosine(c_maj_tiv,d_sharp_min_tiv))"
   ],
   "execution_count": 8,
   "outputs": [
    {
     "name": "stdout",
     "text": [
      "Euclidean and cosine distance between CMaj and GMaj\n",
      "6.318477493923422\n",
      "0.821319288606021\n",
      "Euclidean and cosine distance between CMaj and AMin\n",
      "8.275785694629691\n",
      "1.1431315115168315\n",
      "Euclidean and cosine distance between CMaj and C#Maj\n",
      "13.805051126546111\n",
      "2.164094585490875\n",
      "Euclidean and cosine distance between CMaj and D#min\n",
      "15.95881368143736\n",
      "2.0869355901016613\n"
     ],
     "output_type": "stream"
    }
   ]
  },
  {
   "cell_type": "markdown",
   "source": [
    "TIV objects can be plot to understand better the present intervals"
   ],
   "metadata": {
    "collapsed": false,
    "pycharm": {
     "name": "#%% md\n",
     "is_executing": false
    }
   }
  },
  {
   "cell_type": "code",
   "execution_count": 9,
   "outputs": [
    {
     "data": {
      "text/plain": "<Figure size 432x288 with 6 Axes>",
      "image/png": "[encoded data removed]"
     },
     "metadata": {
      "needs_background": "light"
     },
     "output_type": "display_data"
    }
   ],
   "source": [
    "c_maj_tiv.plot_tiv(title=\"C_MAJ\")"
   ],
   "metadata": {
    "collapsed": false,
    "pycharm": {
     "name": "#%%\n",
     "is_executing": false
    }
   }
  },
  {
   "cell_type": "markdown",
   "source": [
    "TIV pitch shifting consist just only in rotating the phase of the vectors"
   ],
   "metadata": {
    "collapsed": false,
    "pycharm": {
     "name": "#%% md\n"
    }
   }
  },
  {
   "cell_type": "code",
   "execution_count": 22,
   "outputs": [
    {
     "data": {
      "text/plain": "<Figure size 432x288 with 6 Axes>",
      "image/png": "[encoded data removed]"
     },
     "metadata": {
      "needs_background": "light"
     },
     "output_type": "display_data"
    }
   ],
   "source": [
    "c_maj_tiv_pshift_1 = c_maj_tiv.transpose(1)\n",
    "c_maj_tiv_pshift_1.plot_tiv(title=\"C_MAJ_TRANSPOSED 1 SEMITONE\")"
   ],
   "metadata": {
    "collapsed": false,
    "pycharm": {
     "name": "#%%\n",
     "is_executing": false
    }
   }
  },
  {
   "cell_type": "markdown",
   "source": [
    "Get the maximum compatibility between two TIVs"
   ],
   "metadata": {
    "collapsed": false
   }
  },
  {
   "cell_type": "code",
   "execution_count": 23,
   "outputs": [
    {
     "name": "stdout",
     "text": [
      "Maximum compatibility 6.439392662252358e-16, for pitch shift: -1\n"
     ],
     "output_type": "stream"
    }
   ],
   "source": [
    "pitch_shift, compt = c_maj_tiv.get_max_compatibility(c_maj_tiv_pshift_1)\n",
    "print(\"Maximum compatibility %s, for pitch shift: %s\" % (compt, pitch_shift))"
   ],
   "metadata": {
    "collapsed": false,
    "pycharm": {
     "name": "#%%\n",
     "is_executing": false
    }
   }
  },
  {
   "cell_type": "markdown",
   "metadata": {
    "id": "nEBmX6reakFQ",
    "colab_type": "text"
   },
   "source": [
    "For a full description of the features available in the TIV.lib, please refer to the TIV website: https://sites.google.com/site/tonalintervalspace/home"
   ]
  }
 ]
}
